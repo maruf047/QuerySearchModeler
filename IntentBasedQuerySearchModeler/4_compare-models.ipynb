{
 "cells": [
  {
   "cell_type": "markdown",
   "id": "e3a1392b-76ec-45f7-ad25-3a5d103d5b29",
   "metadata": {},
   "source": [
    "# Compare Candidate Search Approaches\n",
    "\n",
    "Code authored by: Shaw Talebi <br>\n",
    "\n",
    "Video link: https://youtu.be/6qCrvlHRhcM <br>\n"
   ]
  },
  {
   "cell_type": "markdown",
   "id": "8726e54c-7d53-4dc7-8514-9e74740cb0d0",
   "metadata": {},
   "source": [
    "### imports"
   ]
  },
  {
   "cell_type": "code",
   "id": "63fabdf5-58b7-4e4f-941f-9398d7be8411",
   "metadata": {
    "ExecuteTime": {
     "end_time": "2025-04-24T06:05:22.983271Z",
     "start_time": "2025-04-24T06:05:22.979532Z"
    }
   },
   "source": [
    "import polars as pl\n",
    "\n",
    "from sentence_transformers import SentenceTransformer, util\n",
    "\n",
    "from sklearn.metrics import DistanceMetric\n",
    "import numpy as np\n",
    "\n",
    "import matplotlib.pyplot as plt"
   ],
   "outputs": [],
   "execution_count": 81
  },
  {
   "cell_type": "markdown",
   "id": "f16fc1e7-bbe7-4a93-b166-4e7a8ea258e2",
   "metadata": {},
   "source": [
    "### load data"
   ]
  },
  {
   "cell_type": "code",
   "id": "88b702fc-6389-43d2-b849-8bc6a4076a76",
   "metadata": {
    "ExecuteTime": {
     "end_time": "2025-04-24T06:05:23.034771Z",
     "start_time": "2025-04-24T06:05:23.021900Z"
    }
   },
   "source": [
    "df = pl.read_parquet('data/video-transcripts.parquet')\n",
    "df_eval = pl.read_csv('data/eval-raw.csv')\n",
    "df.head()"
   ],
   "outputs": [
    {
     "data": {
      "text/plain": [
       "shape: (5, 4)\n",
       "┌─────────────┬─────────────────────┬──────────────────────────────────┬───────────────────────────┐\n",
       "│ video_id    ┆ datetime            ┆ title                            ┆ transcript                │\n",
       "│ ---         ┆ ---                 ┆ ---                              ┆ ---                       │\n",
       "│ str         ┆ datetime[μs]        ┆ str                              ┆ str                       │\n",
       "╞═════════════╪═════════════════════╪══════════════════════════════════╪═══════════════════════════╡\n",
       "│ 03x2oYg9oME ┆ 2024-04-25 15:16:00 ┆ Data Science Project Managemen…  ┆ this video is part of a   │\n",
       "│             ┆                     ┆                                  ┆ larger…                   │\n",
       "│ O5i_mMUM94c ┆ 2024-04-19 14:05:54 ┆ How I’d learned #datascience (…  ┆ here's how I'd learn data │\n",
       "│             ┆                     ┆                                  ┆ scie…                     │\n",
       "│ xm9devSQEqU ┆ 2024-04-18 15:59:02 ┆ 4 Skills You Need to Be a Full…  ┆ although it is common to  │\n",
       "│             ┆                     ┆                                  ┆ deleg…                    │\n",
       "│ Z6CmuVEi7QY ┆ 2024-04-11 10:00:27 ┆ How I'd Learn Data Science (if…  ┆ when I was first learning │\n",
       "│             ┆                     ┆                                  ┆ data…                     │\n",
       "│ INlCLmWlojY ┆ 2024-04-04 18:45:00 ┆ I Was Wrong About AI Consultin…  ┆ last year I quit my       │\n",
       "│             ┆                     ┆                                  ┆ corporate …               │\n",
       "└─────────────┴─────────────────────┴──────────────────────────────────┴───────────────────────────┘"
      ],
      "text/html": [
       "<div><style>\n",
       ".dataframe > thead > tr,\n",
       ".dataframe > tbody > tr {\n",
       "  text-align: right;\n",
       "  white-space: pre-wrap;\n",
       "}\n",
       "</style>\n",
       "<small>shape: (5, 4)</small><table border=\"1\" class=\"dataframe\"><thead><tr><th>video_id</th><th>datetime</th><th>title</th><th>transcript</th></tr><tr><td>str</td><td>datetime[μs]</td><td>str</td><td>str</td></tr></thead><tbody><tr><td>&quot;03x2oYg9oME&quot;</td><td>2024-04-25 15:16:00</td><td>&quot;Data Science Project Managemen…</td><td>&quot;this video is part of a larger…</td></tr><tr><td>&quot;O5i_mMUM94c&quot;</td><td>2024-04-19 14:05:54</td><td>&quot;How I’d learned #datascience (…</td><td>&quot;here&#x27;s how I&#x27;d learn data scie…</td></tr><tr><td>&quot;xm9devSQEqU&quot;</td><td>2024-04-18 15:59:02</td><td>&quot;4 Skills You Need to Be a Full…</td><td>&quot;although it is common to deleg…</td></tr><tr><td>&quot;Z6CmuVEi7QY&quot;</td><td>2024-04-11 10:00:27</td><td>&quot;How I&#x27;d Learn Data Science (if…</td><td>&quot;when I was first learning data…</td></tr><tr><td>&quot;INlCLmWlojY&quot;</td><td>2024-04-04 18:45:00</td><td>&quot;I Was Wrong About AI Consultin…</td><td>&quot;last year I quit my corporate …</td></tr></tbody></table></div>"
      ]
     },
     "execution_count": 82,
     "metadata": {},
     "output_type": "execute_result"
    }
   ],
   "execution_count": 82
  },
  {
   "cell_type": "markdown",
   "id": "8b5435a1-1f74-47b3-bddd-929f5c4908fe",
   "metadata": {},
   "source": [
    "### embed titles and transcripts"
   ]
  },
  {
   "cell_type": "code",
   "id": "d0fb5ddb-5278-42a4-a6cf-f6161e59d94e",
   "metadata": {
    "ExecuteTime": {
     "end_time": "2025-04-24T06:05:23.118921Z",
     "start_time": "2025-04-24T06:05:23.114242Z"
    }
   },
   "source": [
    "# define \"parameters\"\n",
    "column_to_embed_list = ['title', 'transcript']\n",
    "model_name_list = [\"all-MiniLM-L6-v2\", \"all-distilroberta-v1\", \"multi-qa-distilbert-cos-v1\", \"multi-qa-mpnet-base-dot-v1\"]"
   ],
   "outputs": [],
   "execution_count": 83
  },
  {
   "cell_type": "code",
   "id": "ad995bfd-dea8-4514-8392-00f941496edb",
   "metadata": {
    "ExecuteTime": {
     "end_time": "2025-04-24T06:06:51.809813Z",
     "start_time": "2025-04-24T06:05:23.256662Z"
    }
   },
   "source": [
    "# generate embeddings for each combination of column and model\n",
    "\n",
    "# initialize dict to keep track of all text embeddings\n",
    "text_embedding_dict = {}\n",
    "\n",
    "for model_name in model_name_list:\n",
    "\n",
    "    #define embedding model\n",
    "    model = SentenceTransformer(model_name) \n",
    "\n",
    "    for column_name in column_to_embed_list:\n",
    "\n",
    "        # define text embedding identifier\n",
    "        key_name = model_name + \"_\" + column_name\n",
    "        print(key_name)\n",
    "\n",
    "        # generate embeddings for text under column_name\n",
    "        %time embedding_arr = model.encode(df[column_name].to_list())\n",
    "        print('')\n",
    "\n",
    "        # append embeddings to dict\n",
    "        text_embedding_dict[key_name] = embedding_arr"
   ],
   "outputs": [
    {
     "name": "stdout",
     "output_type": "stream",
     "text": [
      "all-MiniLM-L6-v2_title\n",
      "CPU times: total: 1.77 s\n",
      "Wall time: 225 ms\n",
      "\n",
      "all-MiniLM-L6-v2_transcript\n",
      "CPU times: total: 19.9 s\n",
      "Wall time: 2.38 s\n",
      "\n"
     ]
    },
    {
     "data": {
      "text/plain": [
       "README.md:   0%|          | 0.00/10.1k [00:00<?, ?B/s]"
      ],
      "application/vnd.jupyter.widget-view+json": {
       "version_major": 2,
       "version_minor": 0,
       "model_id": "fb8145390f404f84a896af37aee1326e"
      }
     },
     "metadata": {},
     "output_type": "display_data"
    },
    {
     "data": {
      "text/plain": [
       "sentence_bert_config.json:   0%|          | 0.00/53.0 [00:00<?, ?B/s]"
      ],
      "application/vnd.jupyter.widget-view+json": {
       "version_major": 2,
       "version_minor": 0,
       "model_id": "67e5ad0c2ec74afa8dcc271f7dcbfec3"
      }
     },
     "metadata": {},
     "output_type": "display_data"
    },
    {
     "data": {
      "text/plain": [
       "config.json:   0%|          | 0.00/653 [00:00<?, ?B/s]"
      ],
      "application/vnd.jupyter.widget-view+json": {
       "version_major": 2,
       "version_minor": 0,
       "model_id": "53483b9f80024101baa19f1e2630921f"
      }
     },
     "metadata": {},
     "output_type": "display_data"
    },
    {
     "name": "stderr",
     "output_type": "stream",
     "text": [
      "Xet Storage is enabled for this repo, but the 'hf_xet' package is not installed. Falling back to regular HTTP download. For better performance, install the package with: `pip install huggingface_hub[hf_xet]` or `pip install hf_xet`\n"
     ]
    },
    {
     "data": {
      "text/plain": [
       "model.safetensors:   0%|          | 0.00/328M [00:00<?, ?B/s]"
      ],
      "application/vnd.jupyter.widget-view+json": {
       "version_major": 2,
       "version_minor": 0,
       "model_id": "c425c8a7db7d42a4ac5a03a17d4afde6"
      }
     },
     "metadata": {},
     "output_type": "display_data"
    },
    {
     "data": {
      "text/plain": [
       "tokenizer_config.json:   0%|          | 0.00/333 [00:00<?, ?B/s]"
      ],
      "application/vnd.jupyter.widget-view+json": {
       "version_major": 2,
       "version_minor": 0,
       "model_id": "b1eddbfc27ec4620aaad8bbe9f963048"
      }
     },
     "metadata": {},
     "output_type": "display_data"
    },
    {
     "data": {
      "text/plain": [
       "vocab.json:   0%|          | 0.00/798k [00:00<?, ?B/s]"
      ],
      "application/vnd.jupyter.widget-view+json": {
       "version_major": 2,
       "version_minor": 0,
       "model_id": "fbee2b6516ea48cd957c1363671d0666"
      }
     },
     "metadata": {},
     "output_type": "display_data"
    },
    {
     "data": {
      "text/plain": [
       "merges.txt:   0%|          | 0.00/456k [00:00<?, ?B/s]"
      ],
      "application/vnd.jupyter.widget-view+json": {
       "version_major": 2,
       "version_minor": 0,
       "model_id": "d77ad1b522c841a08eecc663ef9431cf"
      }
     },
     "metadata": {},
     "output_type": "display_data"
    },
    {
     "data": {
      "text/plain": [
       "tokenizer.json:   0%|          | 0.00/1.36M [00:00<?, ?B/s]"
      ],
      "application/vnd.jupyter.widget-view+json": {
       "version_major": 2,
       "version_minor": 0,
       "model_id": "b6918392003e44bea37a5bcade85741a"
      }
     },
     "metadata": {},
     "output_type": "display_data"
    },
    {
     "data": {
      "text/plain": [
       "special_tokens_map.json:   0%|          | 0.00/239 [00:00<?, ?B/s]"
      ],
      "application/vnd.jupyter.widget-view+json": {
       "version_major": 2,
       "version_minor": 0,
       "model_id": "e924d9465871467fa4d3ab0b3b941ae8"
      }
     },
     "metadata": {},
     "output_type": "display_data"
    },
    {
     "data": {
      "text/plain": [
       "config.json:   0%|          | 0.00/190 [00:00<?, ?B/s]"
      ],
      "application/vnd.jupyter.widget-view+json": {
       "version_major": 2,
       "version_minor": 0,
       "model_id": "a9872090682b4d9c84f1b72037681d6d"
      }
     },
     "metadata": {},
     "output_type": "display_data"
    },
    {
     "name": "stdout",
     "output_type": "stream",
     "text": [
      "all-distilroberta-v1_title\n",
      "CPU times: total: 4.61 s\n",
      "Wall time: 590 ms\n",
      "\n",
      "all-distilroberta-v1_transcript\n",
      "CPU times: total: 1min 32s\n",
      "Wall time: 11.5 s\n",
      "\n",
      "multi-qa-distilbert-cos-v1_title\n",
      "CPU times: total: 4.5 s\n",
      "Wall time: 546 ms\n",
      "\n",
      "multi-qa-distilbert-cos-v1_transcript\n",
      "CPU times: total: 1min 36s\n",
      "Wall time: 12 s\n",
      "\n",
      "multi-qa-mpnet-base-dot-v1_title\n",
      "CPU times: total: 7.27 s\n",
      "Wall time: 915 ms\n",
      "\n",
      "multi-qa-mpnet-base-dot-v1_transcript\n",
      "CPU times: total: 4min 45s\n",
      "Wall time: 35.8 s\n",
      "\n"
     ]
    }
   ],
   "execution_count": 84
  },
  {
   "cell_type": "markdown",
   "id": "d49a2886-4c1f-459b-8d74-4b2a60cc5ce2",
   "metadata": {},
   "source": [
    "### embed queries"
   ]
  },
  {
   "cell_type": "code",
   "id": "ed2cc13c-a6dc-4354-938c-7383140b1a92",
   "metadata": {
    "ExecuteTime": {
     "end_time": "2025-04-24T06:07:06.486638Z",
     "start_time": "2025-04-24T06:06:51.894689Z"
    }
   },
   "source": [
    "query_embedding_dict = {}\n",
    "\n",
    "for model_name in model_name_list:\n",
    "\n",
    "    #define embedding model\n",
    "    model = SentenceTransformer(model_name)\n",
    "    print(model_name)\n",
    "\n",
    "    # embed query text\n",
    "    %time embedding_arr = model.encode(df_eval['query'].to_list())\n",
    "    print('')\n",
    "\n",
    "    # append embedding to dict\n",
    "    query_embedding_dict[model_name] = embedding_arr"
   ],
   "outputs": [
    {
     "name": "stdout",
     "output_type": "stream",
     "text": [
      "all-MiniLM-L6-v2\n",
      "CPU times: total: 2.25 s\n",
      "Wall time: 282 ms\n",
      "\n",
      "all-distilroberta-v1\n",
      "CPU times: total: 6.66 s\n",
      "Wall time: 835 ms\n",
      "\n",
      "multi-qa-distilbert-cos-v1\n",
      "CPU times: total: 6.12 s\n",
      "Wall time: 760 ms\n",
      "\n",
      "multi-qa-mpnet-base-dot-v1\n",
      "CPU times: total: 14.2 s\n",
      "Wall time: 1.79 s\n",
      "\n"
     ]
    }
   ],
   "execution_count": 85
  },
  {
   "cell_type": "markdown",
   "id": "7fbe42a5-63d0-4ac9-b443-7bec945af178",
   "metadata": {},
   "source": [
    "### Evaluate search methods"
   ]
  },
  {
   "cell_type": "code",
   "id": "0f8d5792-d3e5-4b3c-b467-1e323684be18",
   "metadata": {
    "jupyter": {
     "source_hidden": true
    },
    "ExecuteTime": {
     "end_time": "2025-04-24T06:07:06.513483Z",
     "start_time": "2025-04-24T06:07:06.509933Z"
    }
   },
   "source": [
    "def returnVideoID_index(df: pl.dataframe.frame.DataFrame, df_eval: pl.dataframe.frame.DataFrame, query_n: int) -> int:\n",
    "    \"\"\"\n",
    "        Function to return the index of a dataframe corresponding to the nth row in evaluation dataframe\n",
    "    \"\"\"\n",
    "\n",
    "    return [i for i in range(len(df)) if df['video_id'][i]==df_eval['video_id'][query_n]][0]"
   ],
   "outputs": [],
   "execution_count": 86
  },
  {
   "cell_type": "code",
   "id": "e1a67a04-ff18-4017-a2dc-1b0779d02519",
   "metadata": {
    "jupyter": {
     "source_hidden": true
    },
    "ExecuteTime": {
     "end_time": "2025-04-24T06:07:06.566256Z",
     "start_time": "2025-04-24T06:07:06.561464Z"
    }
   },
   "source": [
    "def evalTrueRankings(dist_arr_isorted: np.ndarray, df: pl.dataframe.frame.DataFrame, df_eval: pl.dataframe.frame.DataFrame) -> np.ndarray:\n",
    "    \"\"\"\n",
    "        Function to return \"true\" video ID rankings for each evaluation query\n",
    "    \"\"\"\n",
    "    \n",
    "    # intialize array to store rankings of \"correct\" search result\n",
    "    true_rank_arr = np.empty((1, dist_arr_isorted.shape[1]))\n",
    "    \n",
    "    # evaluate ranking of correct result for each query\n",
    "    for query_n in range(dist_arr_isorted.shape[1]):\n",
    "    \n",
    "        # return \"true\" video ID's in df\n",
    "        video_id_idx = returnVideoID_index(df, df_eval, query_n)\n",
    "        \n",
    "        # evaluate the ranking of the \"true\" video ID\n",
    "        true_rank = np.argwhere(dist_arr_isorted[:,query_n]==video_id_idx)[0][0]\n",
    "        \n",
    "        # store the \"true\" video ID's ranking in array\n",
    "        true_rank_arr[0,query_n] = true_rank\n",
    "\n",
    "    return true_rank_arr"
   ],
   "outputs": [],
   "execution_count": 87
  },
  {
   "cell_type": "code",
   "id": "58d5fd16-b4cc-48d7-bd47-e948fdc94906",
   "metadata": {
    "ExecuteTime": {
     "end_time": "2025-04-24T06:07:06.628141Z",
     "start_time": "2025-04-24T06:07:06.623815Z"
    }
   },
   "source": [
    "# initialize distance metrics to experiment\n",
    "dist_name_list = ['euclidean', 'manhattan', 'chebyshev']\n",
    "sim_name_list = ['cos_sim', 'dot_score']"
   ],
   "outputs": [],
   "execution_count": 88
  },
  {
   "cell_type": "code",
   "id": "7f4e57f0-d4bd-48b9-a8c7-4633a2a8dfec",
   "metadata": {
    "ExecuteTime": {
     "end_time": "2025-04-24T06:07:07.406574Z",
     "start_time": "2025-04-24T06:07:06.676714Z"
    }
   },
   "source": [
    "# evaluate all possible combinations of model, columns to embed, and distance metrics\n",
    "\n",
    "# initialize list to store results\n",
    "eval_results = []\n",
    "\n",
    "# loop through all models\n",
    "for model_name in model_name_list:\n",
    "\n",
    "    # generate query embedding\n",
    "    query_embedding = query_embedding_dict[model_name]\n",
    "    \n",
    "    # loop through text columns\n",
    "    for column_name in column_to_embed_list:\n",
    "\n",
    "        # generate column embedding\n",
    "        embedding_arr = text_embedding_dict[model_name+'_'+column_name]\n",
    "\n",
    "        # loop through distance metrics\n",
    "        for dist_name in dist_name_list:\n",
    "\n",
    "            # compute distance between video text and query\n",
    "            dist = DistanceMetric.get_metric(dist_name)\n",
    "            dist_arr = dist.pairwise(embedding_arr, query_embedding)\n",
    "\n",
    "            # sort indexes of distance array\n",
    "            dist_arr_isorted = np.argsort(dist_arr, axis=0)\n",
    "\n",
    "            # define label for search method\n",
    "            method_name = \"_\".join([model_name, column_name, dist_name])\n",
    "\n",
    "            # evaluate the ranking of the ground truth\n",
    "            true_rank_arr = evalTrueRankings(dist_arr_isorted, df, df_eval)\n",
    "\n",
    "            # store results\n",
    "            eval_list = [method_name] + true_rank_arr.tolist()[0]\n",
    "            eval_results.append(eval_list)\n",
    "\n",
    "        # loop through sbert similarity scores\n",
    "        for sim_name in sim_name_list:\n",
    "            # apply similarity score from sbert\n",
    "            cmd = \"dist_arr = -util.\" + sim_name + \"(embedding_arr, query_embedding)\"\n",
    "            exec(cmd)\n",
    "    \n",
    "            # sort indexes of distance array (notice minus sign in front of cosine similarity)\n",
    "            dist_arr_isorted = np.argsort(dist_arr, axis=0)\n",
    "    \n",
    "            # define label for search method\n",
    "            method_name = \"_\".join([model_name, column_name, sim_name.replace(\"_\",\"-\")])\n",
    "    \n",
    "            # evaluate the ranking of the ground truth\n",
    "            true_rank_arr = evalTrueRankings(dist_arr_isorted, df, df_eval)\n",
    "    \n",
    "            # store results\n",
    "            eval_list = [method_name] + true_rank_arr.tolist()[0]\n",
    "            eval_results.append(eval_list)"
   ],
   "outputs": [],
   "execution_count": 89
  },
  {
   "cell_type": "code",
   "id": "88321681-0547-4855-abb6-5537573155e5",
   "metadata": {
    "ExecuteTime": {
     "end_time": "2025-04-24T06:07:07.449305Z",
     "start_time": "2025-04-24T06:07:07.445123Z"
    }
   },
   "source": [
    "cmd"
   ],
   "outputs": [
    {
     "data": {
      "text/plain": [
       "'dist_arr = -util.dot_score(embedding_arr, query_embedding)'"
      ]
     },
     "execution_count": 90,
     "metadata": {},
     "output_type": "execute_result"
    }
   ],
   "execution_count": 90
  },
  {
   "cell_type": "code",
   "id": "bc50dce4-0cbf-4d56-bb98-d3704c8e668c",
   "metadata": {
    "ExecuteTime": {
     "end_time": "2025-04-24T06:07:07.973351Z",
     "start_time": "2025-04-24T06:07:07.534330Z"
    }
   },
   "source": [
    "# compute rankings for title + transcripts embedding\n",
    "for model_name in model_name_list:\n",
    "    \n",
    "    # generate embeddings\n",
    "    embedding_arr1 = text_embedding_dict[model_name+'_title']\n",
    "    embedding_arr2 = text_embedding_dict[model_name+'_transcript']\n",
    "    query_embedding = query_embedding_dict[model_name]\n",
    "\n",
    "    for dist_name in dist_name_list:\n",
    "\n",
    "        # compute distance between video text and query\n",
    "        dist = DistanceMetric.get_metric(dist_name)\n",
    "        dist_arr = dist.pairwise(embedding_arr1, query_embedding) + dist.pairwise(embedding_arr2, query_embedding)\n",
    "\n",
    "        # sort indexes of distance array\n",
    "        dist_arr_isorted = np.argsort(dist_arr, axis=0)\n",
    "\n",
    "         # define label for search method\n",
    "        method_name = \"_\".join([model_name, \"title-transcript\", dist_name])\n",
    "\n",
    "        # evaluate the ranking of the ground truth\n",
    "        true_rank_arr = evalTrueRankings(dist_arr_isorted, df, df_eval)\n",
    "\n",
    "        # store results\n",
    "        eval_list = [method_name] + true_rank_arr.tolist()[0]\n",
    "        eval_results.append(eval_list)\n",
    "\n",
    "    # loop through sbert similarity scores\n",
    "    for sim_name in sim_name_list:\n",
    "        # apply similarity score from sbert\n",
    "        cmd = \"dist_arr = -util.\" + sim_name + \"(embedding_arr1, query_embedding) - util.\"+ sim_name + \"(embedding_arr2, query_embedding)\"\n",
    "        exec(cmd)\n",
    "\n",
    "        # sort indexes of distance array (notice minus sign in front of cosine similarity)\n",
    "        dist_arr_isorted = np.argsort(dist_arr, axis=0)\n",
    "\n",
    "        # define label for search method\n",
    "        method_name = \"_\".join([model_name, \"title-transcript\", sim_name.replace(\"_\",\"-\")])\n",
    "\n",
    "        # evaluate the ranking of the ground truth\n",
    "        true_rank_arr = evalTrueRankings(dist_arr_isorted, df, df_eval)\n",
    "\n",
    "        # store results\n",
    "        eval_list = [method_name] + true_rank_arr.tolist()[0]\n",
    "        eval_results.append(eval_list)"
   ],
   "outputs": [],
   "execution_count": 91
  },
  {
   "cell_type": "code",
   "id": "dec5ff78-7761-4048-90ed-71f93d77ba8d",
   "metadata": {
    "ExecuteTime": {
     "end_time": "2025-04-24T06:07:08.024396Z",
     "start_time": "2025-04-24T06:07:08.017201Z"
    }
   },
   "source": [
    "len(eval_results)"
   ],
   "outputs": [
    {
     "data": {
      "text/plain": [
       "60"
      ]
     },
     "execution_count": 92,
     "metadata": {},
     "output_type": "execute_result"
    }
   ],
   "execution_count": 92
  },
  {
   "cell_type": "code",
   "id": "ac91899c-b54b-4751-b929-5d533db4009c",
   "metadata": {
    "ExecuteTime": {
     "end_time": "2025-04-24T06:07:08.103484Z",
     "start_time": "2025-04-24T06:07:08.091517Z"
    }
   },
   "source": [
    "# define schema for results dataframe\n",
    "schema_dict = {'method_name':str}\n",
    "for i in range(len(eval_results[0])-1):\n",
    "    schema_dict['rank_query-'+str(i)] = float\n",
    "\n",
    "# store results in dataframe\n",
    "df_results = pl.DataFrame(eval_results, schema=schema_dict)\n",
    "df_results.head()"
   ],
   "outputs": [
    {
     "name": "stderr",
     "output_type": "stream",
     "text": [
      "C:\\Users\\maruf.morshed\\AppData\\Local\\Temp\\ipykernel_5336\\2236044702.py:7: DataOrientationWarning: Row orientation inferred during DataFrame construction. Explicitly specify the orientation by passing `orient=\"row\"` to silence this warning.\n",
      "  df_results = pl.DataFrame(eval_results, schema=schema_dict)\n"
     ]
    },
    {
     "data": {
      "text/plain": [
       "shape: (5, 65)\n",
       "┌───────────┬───────────┬───────────┬───────────┬───┬───────────┬───────────┬───────────┬──────────┐\n",
       "│ method_na ┆ rank_quer ┆ rank_quer ┆ rank_quer ┆ … ┆ rank_quer ┆ rank_quer ┆ rank_quer ┆ rank_que │\n",
       "│ me        ┆ y-0       ┆ y-1       ┆ y-2       ┆   ┆ y-60      ┆ y-61      ┆ y-62      ┆ ry-63    │\n",
       "│ ---       ┆ ---       ┆ ---       ┆ ---       ┆   ┆ ---       ┆ ---       ┆ ---       ┆ ---      │\n",
       "│ str       ┆ f64       ┆ f64       ┆ f64       ┆   ┆ f64       ┆ f64       ┆ f64       ┆ f64      │\n",
       "╞═══════════╪═══════════╪═══════════╪═══════════╪═══╪═══════════╪═══════════╪═══════════╪══════════╡\n",
       "│ all-MiniL ┆ 0.0       ┆ 0.0       ┆ 16.0      ┆ … ┆ 1.0       ┆ 0.0       ┆ 1.0       ┆ 0.0      │\n",
       "│ M-L6-v2_t ┆           ┆           ┆           ┆   ┆           ┆           ┆           ┆          │\n",
       "│ itle_eucl ┆           ┆           ┆           ┆   ┆           ┆           ┆           ┆          │\n",
       "│ ide…      ┆           ┆           ┆           ┆   ┆           ┆           ┆           ┆          │\n",
       "│ all-MiniL ┆ 0.0       ┆ 0.0       ┆ 9.0       ┆ … ┆ 1.0       ┆ 0.0       ┆ 1.0       ┆ 0.0      │\n",
       "│ M-L6-v2_t ┆           ┆           ┆           ┆   ┆           ┆           ┆           ┆          │\n",
       "│ itle_manh ┆           ┆           ┆           ┆   ┆           ┆           ┆           ┆          │\n",
       "│ att…      ┆           ┆           ┆           ┆   ┆           ┆           ┆           ┆          │\n",
       "│ all-MiniL ┆ 0.0       ┆ 2.0       ┆ 46.0      ┆ … ┆ 1.0       ┆ 1.0       ┆ 1.0       ┆ 0.0      │\n",
       "│ M-L6-v2_t ┆           ┆           ┆           ┆   ┆           ┆           ┆           ┆          │\n",
       "│ itle_cheb ┆           ┆           ┆           ┆   ┆           ┆           ┆           ┆          │\n",
       "│ ysh…      ┆           ┆           ┆           ┆   ┆           ┆           ┆           ┆          │\n",
       "│ all-MiniL ┆ 0.0       ┆ 0.0       ┆ 16.0      ┆ … ┆ 1.0       ┆ 0.0       ┆ 1.0       ┆ 0.0      │\n",
       "│ M-L6-v2_t ┆           ┆           ┆           ┆   ┆           ┆           ┆           ┆          │\n",
       "│ itle_cos- ┆           ┆           ┆           ┆   ┆           ┆           ┆           ┆          │\n",
       "│ sim       ┆           ┆           ┆           ┆   ┆           ┆           ┆           ┆          │\n",
       "│ all-MiniL ┆ 0.0       ┆ 0.0       ┆ 16.0      ┆ … ┆ 1.0       ┆ 0.0       ┆ 1.0       ┆ 0.0      │\n",
       "│ M-L6-v2_t ┆           ┆           ┆           ┆   ┆           ┆           ┆           ┆          │\n",
       "│ itle_dot- ┆           ┆           ┆           ┆   ┆           ┆           ┆           ┆          │\n",
       "│ sco…      ┆           ┆           ┆           ┆   ┆           ┆           ┆           ┆          │\n",
       "└───────────┴───────────┴───────────┴───────────┴───┴───────────┴───────────┴───────────┴──────────┘"
      ],
      "text/html": [
       "<div><style>\n",
       ".dataframe > thead > tr,\n",
       ".dataframe > tbody > tr {\n",
       "  text-align: right;\n",
       "  white-space: pre-wrap;\n",
       "}\n",
       "</style>\n",
       "<small>shape: (5, 65)</small><table border=\"1\" class=\"dataframe\"><thead><tr><th>method_name</th><th>rank_query-0</th><th>rank_query-1</th><th>rank_query-2</th><th>rank_query-3</th><th>rank_query-4</th><th>rank_query-5</th><th>rank_query-6</th><th>rank_query-7</th><th>rank_query-8</th><th>rank_query-9</th><th>rank_query-10</th><th>rank_query-11</th><th>rank_query-12</th><th>rank_query-13</th><th>rank_query-14</th><th>rank_query-15</th><th>rank_query-16</th><th>rank_query-17</th><th>rank_query-18</th><th>rank_query-19</th><th>rank_query-20</th><th>rank_query-21</th><th>rank_query-22</th><th>rank_query-23</th><th>rank_query-24</th><th>rank_query-25</th><th>rank_query-26</th><th>rank_query-27</th><th>rank_query-28</th><th>rank_query-29</th><th>rank_query-30</th><th>rank_query-31</th><th>rank_query-32</th><th>rank_query-33</th><th>rank_query-34</th><th>rank_query-35</th><th>rank_query-36</th><th>rank_query-37</th><th>rank_query-38</th><th>rank_query-39</th><th>rank_query-40</th><th>rank_query-41</th><th>rank_query-42</th><th>rank_query-43</th><th>rank_query-44</th><th>rank_query-45</th><th>rank_query-46</th><th>rank_query-47</th><th>rank_query-48</th><th>rank_query-49</th><th>rank_query-50</th><th>rank_query-51</th><th>rank_query-52</th><th>rank_query-53</th><th>rank_query-54</th><th>rank_query-55</th><th>rank_query-56</th><th>rank_query-57</th><th>rank_query-58</th><th>rank_query-59</th><th>rank_query-60</th><th>rank_query-61</th><th>rank_query-62</th><th>rank_query-63</th></tr><tr><td>str</td><td>f64</td><td>f64</td><td>f64</td><td>f64</td><td>f64</td><td>f64</td><td>f64</td><td>f64</td><td>f64</td><td>f64</td><td>f64</td><td>f64</td><td>f64</td><td>f64</td><td>f64</td><td>f64</td><td>f64</td><td>f64</td><td>f64</td><td>f64</td><td>f64</td><td>f64</td><td>f64</td><td>f64</td><td>f64</td><td>f64</td><td>f64</td><td>f64</td><td>f64</td><td>f64</td><td>f64</td><td>f64</td><td>f64</td><td>f64</td><td>f64</td><td>f64</td><td>f64</td><td>f64</td><td>f64</td><td>f64</td><td>f64</td><td>f64</td><td>f64</td><td>f64</td><td>f64</td><td>f64</td><td>f64</td><td>f64</td><td>f64</td><td>f64</td><td>f64</td><td>f64</td><td>f64</td><td>f64</td><td>f64</td><td>f64</td><td>f64</td><td>f64</td><td>f64</td><td>f64</td><td>f64</td><td>f64</td><td>f64</td><td>f64</td></tr></thead><tbody><tr><td>&quot;all-MiniLM-L6-v2_title_euclide…</td><td>0.0</td><td>0.0</td><td>16.0</td><td>0.0</td><td>7.0</td><td>0.0</td><td>0.0</td><td>0.0</td><td>0.0</td><td>0.0</td><td>0.0</td><td>0.0</td><td>0.0</td><td>0.0</td><td>0.0</td><td>0.0</td><td>0.0</td><td>3.0</td><td>0.0</td><td>1.0</td><td>0.0</td><td>2.0</td><td>0.0</td><td>0.0</td><td>0.0</td><td>1.0</td><td>3.0</td><td>1.0</td><td>0.0</td><td>0.0</td><td>0.0</td><td>0.0</td><td>0.0</td><td>2.0</td><td>0.0</td><td>8.0</td><td>1.0</td><td>0.0</td><td>0.0</td><td>1.0</td><td>0.0</td><td>6.0</td><td>1.0</td><td>0.0</td><td>1.0</td><td>0.0</td><td>0.0</td><td>0.0</td><td>0.0</td><td>0.0</td><td>0.0</td><td>0.0</td><td>9.0</td><td>5.0</td><td>0.0</td><td>0.0</td><td>0.0</td><td>0.0</td><td>0.0</td><td>0.0</td><td>1.0</td><td>0.0</td><td>1.0</td><td>0.0</td></tr><tr><td>&quot;all-MiniLM-L6-v2_title_manhatt…</td><td>0.0</td><td>0.0</td><td>9.0</td><td>0.0</td><td>7.0</td><td>0.0</td><td>0.0</td><td>0.0</td><td>0.0</td><td>0.0</td><td>0.0</td><td>0.0</td><td>0.0</td><td>0.0</td><td>0.0</td><td>0.0</td><td>0.0</td><td>2.0</td><td>0.0</td><td>0.0</td><td>0.0</td><td>1.0</td><td>0.0</td><td>0.0</td><td>0.0</td><td>1.0</td><td>3.0</td><td>1.0</td><td>0.0</td><td>0.0</td><td>0.0</td><td>0.0</td><td>0.0</td><td>2.0</td><td>0.0</td><td>7.0</td><td>1.0</td><td>0.0</td><td>0.0</td><td>1.0</td><td>0.0</td><td>3.0</td><td>1.0</td><td>0.0</td><td>1.0</td><td>1.0</td><td>0.0</td><td>0.0</td><td>0.0</td><td>0.0</td><td>0.0</td><td>1.0</td><td>10.0</td><td>5.0</td><td>0.0</td><td>0.0</td><td>0.0</td><td>0.0</td><td>0.0</td><td>0.0</td><td>1.0</td><td>0.0</td><td>1.0</td><td>0.0</td></tr><tr><td>&quot;all-MiniLM-L6-v2_title_chebysh…</td><td>0.0</td><td>2.0</td><td>46.0</td><td>0.0</td><td>60.0</td><td>0.0</td><td>0.0</td><td>0.0</td><td>0.0</td><td>0.0</td><td>1.0</td><td>3.0</td><td>0.0</td><td>30.0</td><td>0.0</td><td>0.0</td><td>4.0</td><td>57.0</td><td>0.0</td><td>3.0</td><td>0.0</td><td>24.0</td><td>0.0</td><td>0.0</td><td>0.0</td><td>8.0</td><td>6.0</td><td>2.0</td><td>0.0</td><td>0.0</td><td>0.0</td><td>0.0</td><td>0.0</td><td>0.0</td><td>0.0</td><td>43.0</td><td>1.0</td><td>0.0</td><td>0.0</td><td>1.0</td><td>0.0</td><td>6.0</td><td>8.0</td><td>0.0</td><td>1.0</td><td>1.0</td><td>0.0</td><td>3.0</td><td>0.0</td><td>0.0</td><td>0.0</td><td>0.0</td><td>5.0</td><td>5.0</td><td>1.0</td><td>70.0</td><td>11.0</td><td>0.0</td><td>0.0</td><td>0.0</td><td>1.0</td><td>1.0</td><td>1.0</td><td>0.0</td></tr><tr><td>&quot;all-MiniLM-L6-v2_title_cos-sim&quot;</td><td>0.0</td><td>0.0</td><td>16.0</td><td>0.0</td><td>7.0</td><td>0.0</td><td>0.0</td><td>0.0</td><td>0.0</td><td>0.0</td><td>0.0</td><td>0.0</td><td>0.0</td><td>0.0</td><td>0.0</td><td>0.0</td><td>0.0</td><td>3.0</td><td>0.0</td><td>1.0</td><td>0.0</td><td>2.0</td><td>0.0</td><td>0.0</td><td>0.0</td><td>1.0</td><td>3.0</td><td>1.0</td><td>0.0</td><td>0.0</td><td>0.0</td><td>0.0</td><td>0.0</td><td>2.0</td><td>0.0</td><td>8.0</td><td>1.0</td><td>0.0</td><td>0.0</td><td>1.0</td><td>0.0</td><td>6.0</td><td>1.0</td><td>0.0</td><td>1.0</td><td>0.0</td><td>0.0</td><td>0.0</td><td>0.0</td><td>0.0</td><td>0.0</td><td>0.0</td><td>9.0</td><td>5.0</td><td>0.0</td><td>0.0</td><td>0.0</td><td>0.0</td><td>0.0</td><td>0.0</td><td>1.0</td><td>0.0</td><td>1.0</td><td>0.0</td></tr><tr><td>&quot;all-MiniLM-L6-v2_title_dot-sco…</td><td>0.0</td><td>0.0</td><td>16.0</td><td>0.0</td><td>7.0</td><td>0.0</td><td>0.0</td><td>0.0</td><td>0.0</td><td>0.0</td><td>0.0</td><td>0.0</td><td>0.0</td><td>0.0</td><td>0.0</td><td>0.0</td><td>0.0</td><td>3.0</td><td>0.0</td><td>1.0</td><td>0.0</td><td>2.0</td><td>0.0</td><td>0.0</td><td>0.0</td><td>1.0</td><td>3.0</td><td>1.0</td><td>0.0</td><td>0.0</td><td>0.0</td><td>0.0</td><td>0.0</td><td>2.0</td><td>0.0</td><td>8.0</td><td>1.0</td><td>0.0</td><td>0.0</td><td>1.0</td><td>0.0</td><td>6.0</td><td>1.0</td><td>0.0</td><td>1.0</td><td>0.0</td><td>0.0</td><td>0.0</td><td>0.0</td><td>0.0</td><td>0.0</td><td>0.0</td><td>9.0</td><td>5.0</td><td>0.0</td><td>0.0</td><td>0.0</td><td>0.0</td><td>0.0</td><td>0.0</td><td>1.0</td><td>0.0</td><td>1.0</td><td>0.0</td></tr></tbody></table></div>"
      ]
     },
     "execution_count": 93,
     "metadata": {},
     "output_type": "execute_result"
    }
   ],
   "execution_count": 93
  },
  {
   "cell_type": "code",
   "id": "bdfedef4-64fb-4852-a5e6-2047c4ee654b",
   "metadata": {
    "ExecuteTime": {
     "end_time": "2025-04-24T06:07:08.313436Z",
     "start_time": "2025-04-24T06:07:08.308743Z"
    }
   },
   "source": [
    "# compute mean rankings of ground truth search result\n",
    "df_results = df_results.with_columns(new_col=pl.mean_horizontal(df_results.columns[1:])).rename({\"new_col\": \"rank_query-mean\"})"
   ],
   "outputs": [],
   "execution_count": 94
  },
  {
   "cell_type": "code",
   "id": "405ce9c5-6347-4995-adbe-4e8cf92727cc",
   "metadata": {
    "ExecuteTime": {
     "end_time": "2025-04-24T06:07:08.412749Z",
     "start_time": "2025-04-24T06:07:08.405393Z"
    }
   },
   "source": [
    "# compute number of ground truth results which appear in top 3\n",
    "for i in [1,3]:\n",
    "    df_results = df_results.with_columns(new_col=pl.sum_horizontal(df_results[:,1:-1]<i)).rename({\"new_col\": \"num_in_top-\"+str(i)})"
   ],
   "outputs": [],
   "execution_count": 95
  },
  {
   "cell_type": "markdown",
   "id": "5bb87b41-52fa-4e89-bb98-2e7011665a27",
   "metadata": {},
   "source": [
    "### Look at top results"
   ]
  },
  {
   "cell_type": "code",
   "id": "4dac1368-fd3d-4ac1-90b8-d2429e2aadf7",
   "metadata": {
    "ExecuteTime": {
     "end_time": "2025-04-24T06:07:08.664269Z",
     "start_time": "2025-04-24T06:07:08.661036Z"
    }
   },
   "source": [
    "df_summary = df_results[['method_name', \"rank_query-mean\", \"num_in_top-1\", \"num_in_top-3\"]]"
   ],
   "outputs": [],
   "execution_count": 96
  },
  {
   "cell_type": "code",
   "id": "332a9783-8fe7-40b8-929c-a2e973e18207",
   "metadata": {
    "ExecuteTime": {
     "end_time": "2025-04-24T06:07:08.724518Z",
     "start_time": "2025-04-24T06:07:08.717950Z"
    }
   },
   "source": [
    "print(df_summary.sort('rank_query-mean').head())"
   ],
   "outputs": [
    {
     "name": "stdout",
     "output_type": "stream",
     "text": [
      "shape: (5, 4)\n",
      "┌─────────────────────────────────┬─────────────────┬──────────────┬──────────────┐\n",
      "│ method_name                     ┆ rank_query-mean ┆ num_in_top-1 ┆ num_in_top-3 │\n",
      "│ ---                             ┆ ---             ┆ ---          ┆ ---          │\n",
      "│ str                             ┆ f64             ┆ u32          ┆ u32          │\n",
      "╞═════════════════════════════════╪═════════════════╪══════════════╪══════════════╡\n",
      "│ all-MiniLM-L6-v2_title-transcr… ┆ 0.875           ┆ 41           ┆ 60           │\n",
      "│ all-MiniLM-L6-v2_title_manhatt… ┆ 0.921875        ┆ 44           ┆ 58           │\n",
      "│ all-MiniLM-L6-v2_title-transcr… ┆ 0.96875         ┆ 41           ┆ 61           │\n",
      "│ all-MiniLM-L6-v2_title-transcr… ┆ 0.984375        ┆ 41           ┆ 60           │\n",
      "│ all-MiniLM-L6-v2_title-transcr… ┆ 0.984375        ┆ 41           ┆ 60           │\n",
      "└─────────────────────────────────┴─────────────────┴──────────────┴──────────────┘\n"
     ]
    }
   ],
   "execution_count": 97
  },
  {
   "cell_type": "code",
   "id": "0bd138a2-cd56-48c6-bb5b-ed7cd159dae5",
   "metadata": {
    "ExecuteTime": {
     "end_time": "2025-04-24T06:07:08.845113Z",
     "start_time": "2025-04-24T06:07:08.840108Z"
    }
   },
   "source": [
    "df_summary.sort('rank_query-mean').head()[0,0]"
   ],
   "outputs": [
    {
     "data": {
      "text/plain": [
       "'all-MiniLM-L6-v2_title-transcript_manhattan'"
      ]
     },
     "execution_count": 98,
     "metadata": {},
     "output_type": "execute_result"
    }
   ],
   "execution_count": 98
  },
  {
   "cell_type": "code",
   "id": "ae0ba9ed-d199-41b1-ad2b-f65604ac1767",
   "metadata": {
    "ExecuteTime": {
     "end_time": "2025-04-24T06:07:08.916312Z",
     "start_time": "2025-04-24T06:07:08.911954Z"
    }
   },
   "source": [
    "print(df_summary.sort(\"num_in_top-1\", descending=True).head())"
   ],
   "outputs": [
    {
     "name": "stdout",
     "output_type": "stream",
     "text": [
      "shape: (5, 4)\n",
      "┌─────────────────────────────────┬─────────────────┬──────────────┬──────────────┐\n",
      "│ method_name                     ┆ rank_query-mean ┆ num_in_top-1 ┆ num_in_top-3 │\n",
      "│ ---                             ┆ ---             ┆ ---          ┆ ---          │\n",
      "│ str                             ┆ f64             ┆ u32          ┆ u32          │\n",
      "╞═════════════════════════════════╪═════════════════╪══════════════╪══════════════╡\n",
      "│ all-MiniLM-L6-v2_title_euclide… ┆ 1.09375         ┆ 45           ┆ 57           │\n",
      "│ all-MiniLM-L6-v2_title_cos-sim  ┆ 1.09375         ┆ 45           ┆ 57           │\n",
      "│ all-MiniLM-L6-v2_title_dot-sco… ┆ 1.09375         ┆ 45           ┆ 57           │\n",
      "│ multi-qa-mpnet-base-dot-v1_tit… ┆ 1.8125          ┆ 45           ┆ 57           │\n",
      "│ all-MiniLM-L6-v2_title_manhatt… ┆ 0.921875        ┆ 44           ┆ 58           │\n",
      "└─────────────────────────────────┴─────────────────┴──────────────┴──────────────┘\n"
     ]
    }
   ],
   "execution_count": 99
  },
  {
   "cell_type": "code",
   "id": "ab8c75c9-967b-47f1-92f7-fad4297b73b3",
   "metadata": {
    "ExecuteTime": {
     "end_time": "2025-04-24T06:07:09.059722Z",
     "start_time": "2025-04-24T06:07:09.052437Z"
    }
   },
   "source": [
    "df_summary.sort(\"num_in_top-1\", descending=True).head()[0,0]"
   ],
   "outputs": [
    {
     "data": {
      "text/plain": [
       "'all-MiniLM-L6-v2_title_euclidean'"
      ]
     },
     "execution_count": 100,
     "metadata": {},
     "output_type": "execute_result"
    }
   ],
   "execution_count": 100
  },
  {
   "cell_type": "code",
   "id": "2761e67b-97cf-4552-9820-442ef440ea61",
   "metadata": {
    "ExecuteTime": {
     "end_time": "2025-04-24T06:07:09.179386Z",
     "start_time": "2025-04-24T06:07:09.173962Z"
    }
   },
   "source": [
    "print(df_summary.sort(\"num_in_top-3\", descending=True).head())"
   ],
   "outputs": [
    {
     "name": "stdout",
     "output_type": "stream",
     "text": [
      "shape: (5, 4)\n",
      "┌─────────────────────────────────┬─────────────────┬──────────────┬──────────────┐\n",
      "│ method_name                     ┆ rank_query-mean ┆ num_in_top-1 ┆ num_in_top-3 │\n",
      "│ ---                             ┆ ---             ┆ ---          ┆ ---          │\n",
      "│ str                             ┆ f64             ┆ u32          ┆ u32          │\n",
      "╞═════════════════════════════════╪═════════════════╪══════════════╪══════════════╡\n",
      "│ all-MiniLM-L6-v2_title-transcr… ┆ 0.96875         ┆ 41           ┆ 61           │\n",
      "│ multi-qa-distilbert-cos-v1_tit… ┆ 1.59375         ┆ 43           ┆ 61           │\n",
      "│ multi-qa-distilbert-cos-v1_tit… ┆ 1.625           ┆ 42           ┆ 61           │\n",
      "│ multi-qa-distilbert-cos-v1_tit… ┆ 1.625           ┆ 42           ┆ 61           │\n",
      "│ all-distilroberta-v1_title_man… ┆ 1.09375         ┆ 40           ┆ 60           │\n",
      "└─────────────────────────────────┴─────────────────┴──────────────┴──────────────┘\n"
     ]
    }
   ],
   "execution_count": 101
  },
  {
   "cell_type": "code",
   "id": "c5c5d5d2-fcd5-4b2f-bc74-c875673ee8b9",
   "metadata": {
    "ExecuteTime": {
     "end_time": "2025-04-24T06:07:09.265905Z",
     "start_time": "2025-04-24T06:07:09.260890Z"
    }
   },
   "source": [
    "df_summary.sort(\"num_in_top-3\", descending=True).head()[0,0]"
   ],
   "outputs": [
    {
     "data": {
      "text/plain": [
       "'all-MiniLM-L6-v2_title-transcript_euclidean'"
      ]
     },
     "execution_count": 102,
     "metadata": {},
     "output_type": "execute_result"
    }
   ],
   "execution_count": 102
  },
  {
   "cell_type": "code",
   "id": "ff4e8924-d53c-42a6-88f5-3bd5f726174e",
   "metadata": {
    "ExecuteTime": {
     "end_time": "2025-04-24T06:07:09.347666Z",
     "start_time": "2025-04-24T06:07:09.340365Z"
    }
   },
   "source": [
    "for i in range(4):\n",
    "    print(df_summary.sort(\"num_in_top-3\", descending=True)['method_name'][i])"
   ],
   "outputs": [
    {
     "name": "stdout",
     "output_type": "stream",
     "text": [
      "all-MiniLM-L6-v2_title-transcript_euclidean\n",
      "multi-qa-distilbert-cos-v1_title-transcript_euclidean\n",
      "multi-qa-distilbert-cos-v1_title-transcript_cos-sim\n",
      "multi-qa-distilbert-cos-v1_title-transcript_dot-score\n"
     ]
    }
   ],
   "execution_count": 103
  },
  {
   "cell_type": "code",
   "id": "c294c889-6ef6-48c7-bb20-05a15a87b58f",
   "metadata": {
    "ExecuteTime": {
     "end_time": "2025-04-24T06:07:09.423294Z",
     "start_time": "2025-04-24T06:07:09.418875Z"
    }
   },
   "source": [],
   "outputs": [],
   "execution_count": null
  }
 ],
 "metadata": {
  "kernelspec": {
   "display_name": "Python 3 (ipykernel)",
   "language": "python",
   "name": "python3"
  },
  "language_info": {
   "codemirror_mode": {
    "name": "ipython",
    "version": 3
   },
   "file_extension": ".py",
   "mimetype": "text/x-python",
   "name": "python",
   "nbconvert_exporter": "python",
   "pygments_lexer": "ipython3",
   "version": "3.10.14"
  }
 },
 "nbformat": 4,
 "nbformat_minor": 5
}
